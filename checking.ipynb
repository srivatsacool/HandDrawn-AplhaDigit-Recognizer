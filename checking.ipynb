{
 "cells": [
  {
   "cell_type": "code",
   "execution_count": 7,
   "metadata": {},
   "outputs": [
    {
     "name": "stdout",
     "output_type": "stream",
     "text": [
      "(28, 28)\n"
     ]
    }
   ],
   "source": [
    "from PIL import Image, ImageOps\n",
    "import numpy as np\n",
    "# creating an og_image object\n",
    "im = Image.open(\"./pil.png\")\n",
    "im = im.resize((28,28))\n",
    "print(np.array(im).shape)\n",
    "im.show()"
   ]
  },
  {
   "cell_type": "code",
   "execution_count": 8,
   "metadata": {},
   "outputs": [],
   "source": [
    "# Import the required module for text \n",
    "# to speech conversion\n",
    "import pyttsx3\n",
    " \n",
    "# init function to get an engine instance for the speech synthesis\n",
    "engine = pyttsx3.init()\n",
    "\n",
    " \n",
    "# say method on the engine that passing input text to be spoken\n",
    "engine.say('The predicted Number is 3 .')\n",
    " \n",
    "# run and wait method, it processes the voice commands.\n",
    "bengine.runAndWait()"
   ]
  },
  {
   "cell_type": "code",
   "execution_count": 1,
   "metadata": {},
   "outputs": [
    {
     "data": {
      "text/plain": [
       "['Number', '2']"
      ]
     },
     "execution_count": 1,
     "metadata": {},
     "output_type": "execute_result"
    }
   ],
   "source": [
    "\n",
    "(\"Number_2\").split(\"_\")"
   ]
  }
 ],
 "metadata": {
  "kernelspec": {
   "display_name": "Python 3.10.3 64-bit",
   "language": "python",
   "name": "python3"
  },
  "language_info": {
   "codemirror_mode": {
    "name": "ipython",
    "version": 3
   },
   "file_extension": ".py",
   "mimetype": "text/x-python",
   "name": "python",
   "nbconvert_exporter": "python",
   "pygments_lexer": "ipython3",
   "version": "3.10.3"
  },
  "orig_nbformat": 4,
  "vscode": {
   "interpreter": {
    "hash": "a226d04346cdb28442adc1fd1ae95d38f5bfee8f2f93d7e8a40f9a2799d5e3a9"
   }
  }
 },
 "nbformat": 4,
 "nbformat_minor": 2
}
